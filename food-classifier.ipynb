{
 "cells": [
  {
   "cell_type": "code",
   "execution_count": 66,
   "metadata": {},
   "outputs": [],
   "source": [
    "from tensorflow.keras import applications\n",
    "from tensorflow.keras.preprocessing.image import ImageDataGenerator\n",
    "from tensorflow.keras import optimizers\n",
    "from tensorflow.keras.models import Sequential\n",
    "from tensorflow.keras.layers import Dropout, Flatten, Dense\n",
    "\n",
    "import numpy as np\n",
    "import matplotlib.pyplot as plt\n",
    "\n",
    "import tensorflow.keras.backend as K\n",
    "\n",
    "import os\n",
    "from shutil import copyfile"
   ]
  },
  {
   "cell_type": "code",
   "execution_count": 67,
   "metadata": {},
   "outputs": [],
   "source": [
    "## move files to train and test folders\n",
    "\n",
    "## make train and test directories\n",
    "with open('food41/meta/classes.txt', 'r') as fp:\n",
    "    line = fp.readline()\n",
    "    while line:\n",
    "        line = line.strip()\n",
    "        try:\n",
    "            os.makedirs('train/'+line)\n",
    "        except FileExistsError:\n",
    "            # directory already exists\n",
    "            pass\n",
    "        try:\n",
    "            os.makedirs('test/'+line)\n",
    "        except FileExistsError:\n",
    "            # directory already exists\n",
    "            pass\n",
    "        line = fp.readline()\n",
    "\n",
    "\n",
    "with open('food41/meta/train.txt', 'r') as fp:\n",
    "    line = fp.readline()\n",
    "    while line:\n",
    "        line = line.strip()\n",
    "        src = 'food41/images/' + line + '.jpg'\n",
    "        dst = 'train/' + line + '.jpg'\n",
    "        copyfile(src, dst)\n",
    "#         os.rename(src, dst)\n",
    "        line = fp.readline()\n",
    "    \n",
    "\n",
    "with open('food41/meta/test.txt', 'r') as fp:\n",
    "    line = fp.readline()\n",
    "    while line:\n",
    "        line = line.strip()\n",
    "        src = 'food41/images/' + line + '.jpg'\n",
    "        dst = 'test/' + line + '.jpg'\n",
    "        copyfile(src, dst)\n",
    "#         os.rename(src, dst)\n",
    "        line = fp.readline()"
   ]
  },
  {
   "cell_type": "code",
   "execution_count": null,
   "metadata": {},
   "outputs": [],
   "source": []
  },
  {
   "cell_type": "code",
   "execution_count": 68,
   "metadata": {},
   "outputs": [],
   "source": [
    "## TODO: train our own neural network"
   ]
  },
  {
   "cell_type": "code",
   "execution_count": 69,
   "metadata": {},
   "outputs": [],
   "source": [
    "## use pre-trained neural network\n",
    "K.clear_session()\n",
    "pre_trained = 'vgg16'\n",
    "from tensorflow.keras.applications.vgg16 import VGG16\n",
    "from tensorflow.keras.preprocessing import image\n",
    "\n",
    "nrow = 32\n",
    "ncol = 32\n",
    "input_shape = (nrow,ncol,3)\n",
    "base_model = applications.VGG16(weights='imagenet', include_top=False, input_shape=input_shape)\n",
    "model = Sequential()\n",
    "for layer in base_model.layers:\n",
    "    model.add(layer)\n",
    "for layer in model.layers:\n",
    "    layer.trainable = False\n",
    "model.add(Flatten())\n",
    "model.add(Dense(256,activation='relu'))\n",
    "model.add(Dropout(0.5))\n",
    "model.add(Dense(1,activation='sigmoid'))"
   ]
  },
  {
   "cell_type": "code",
   "execution_count": null,
   "metadata": {},
   "outputs": [],
   "source": []
  }
 ],
 "metadata": {
  "kernelspec": {
   "display_name": "Python 3",
   "language": "python",
   "name": "python3"
  },
  "language_info": {
   "codemirror_mode": {
    "name": "ipython",
    "version": 3
   },
   "file_extension": ".py",
   "mimetype": "text/x-python",
   "name": "python",
   "nbconvert_exporter": "python",
   "pygments_lexer": "ipython3",
   "version": "3.7.5"
  }
 },
 "nbformat": 4,
 "nbformat_minor": 2
}
